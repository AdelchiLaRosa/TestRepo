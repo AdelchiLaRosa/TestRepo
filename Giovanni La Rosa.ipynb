{
  "metadata": {
    "kernelspec": {
      "name": "python",
      "display_name": "Python (Pyodide)",
      "language": "python"
    },
    "language_info": {
      "codemirror_mode": {
        "name": "python",
        "version": 3
      },
      "file_extension": ".py",
      "mimetype": "text/x-python",
      "name": "python",
      "nbconvert_exporter": "python",
      "pygments_lexer": "ipython3",
      "version": "3.8"
    }
  },
  "nbformat_minor": 4,
  "nbformat": 4,
  "cells": [
    {
      "cell_type": "markdown",
      "source": "<center>\n    <img src=\"https://cf-courses-data.s3.us.cloud-object-storage.appdomain.cloud/IBMDeveloperSkillsNetwork-DS0105EN-SkillsNetwork/labs/Module2/images/SN_web_lightmode.png\" width=\"300\" alt=\"cognitiveclass.ai logo\">\n</center>\n",
      "metadata": {}
    },
    {
      "cell_type": "markdown",
      "source": "#### Add your code below following the instructions given in the course\n",
      "metadata": {}
    },
    {
      "cell_type": "markdown",
      "source": "<h1>Data Science Tools and Ecosystem<h1>",
      "metadata": {
        "tags": []
      }
    },
    {
      "cell_type": "markdown",
      "source": "<h3> In this notebook, Data Science Tools and Ecosystem are summarized.<h3>",
      "metadata": {
        "tags": []
      }
    },
    {
      "cell_type": "markdown",
      "source": "Here a list of Data Science Languages: \n1) Python \n2) R \n3) Stata \n4) Java \n",
      "metadata": {}
    },
    {
      "cell_type": "markdown",
      "source": "Here a list of DS libraries: \n1) Numpy\n2) Pandas\n3) SciPy\n4) TensorFlow\n5) Plotly",
      "metadata": {}
    },
    {
      "cell_type": "markdown",
      "source": "Here a table with one product for each category tool:\n| Data Science Tools| \n|---|\n| Anaconda|\n| Jupyter|\n| R Studio|\n| Spyder|",
      "metadata": {}
    },
    {
      "cell_type": "markdown",
      "source": "<h3>Following, arithmetic expression examples:<h3>",
      "metadata": {}
    },
    {
      "cell_type": "code",
      "source": "# This a simple arithmetic expression to mutiply then add integers\n(2+2)*4",
      "metadata": {
        "tags": [],
        "trusted": true
      },
      "execution_count": null,
      "outputs": []
    },
    {
      "cell_type": "code",
      "source": "#This will convert 200 minutes to hours by diving by 60\nminutes = 200\nhours = 60\nminutes/hours",
      "metadata": {
        "tags": [],
        "trusted": true
      },
      "execution_count": null,
      "outputs": []
    },
    {
      "cell_type": "markdown",
      "source": "Objectives:\n- popular languages for DS\n- common libraries for DS\n- create an expressio\n- convert minutes to hours",
      "metadata": {}
    },
    {
      "cell_type": "markdown",
      "source": "<h2>Author</h2> \n  <p>  Giovanni <p>\n",
      "metadata": {}
    }
  ]
}